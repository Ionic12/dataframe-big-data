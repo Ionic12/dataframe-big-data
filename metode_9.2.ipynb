{
 "cells": [
  {
   "cell_type": "code",
   "execution_count": null,
   "metadata": {},
   "outputs": [],
   "source": [
    "from pyspark import *\n",
    "from pyspark.sql import *\n",
    "spark = SparkSession.builder.appName(\"metode1\").getOrCreate()\n",
    "sc = spark.sparkContext\n",
    "df_json = spark.read.load(\"/opt/spark/datatest/people.json\", format=\"json\")\n",
    "df_json = spark.read.json(\"/opt/spark/datatest/people.json\")\n",
    "df_json.printSchema()\n",
    "df_json.show()\n",
    "df_json.write.json(\"newjson_dir\")\n",
    "df_json.write.format(\"json\").save(\"newjson_dir2\")"
   ]
  }
 ],
 "metadata": {
  "kernelspec": {
   "display_name": "base",
   "language": "python",
   "name": "python3"
  },
  "language_info": {
   "codemirror_mode": {
    "name": "ipython",
    "version": 3
   },
   "file_extension": ".py",
   "mimetype": "text/x-python",
   "name": "python",
   "nbconvert_exporter": "python",
   "pygments_lexer": "ipython3",
   "version": "3.8.8"
  },
  "orig_nbformat": 4
 },
 "nbformat": 4,
 "nbformat_minor": 2
}
